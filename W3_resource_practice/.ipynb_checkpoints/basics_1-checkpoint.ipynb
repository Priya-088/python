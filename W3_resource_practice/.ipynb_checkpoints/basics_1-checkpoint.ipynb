{
 "cells": [
  {
   "cell_type": "code",
   "execution_count": 1,
   "metadata": {},
   "outputs": [
    {
     "name": "stdout",
     "output_type": "stream",
     "text": [
      "Python version\n",
      "3.7.4 (default, Aug  9 2019, 18:34:13) [MSC v.1915 64 bit (AMD64)]\n"
     ]
    }
   ],
   "source": [
    "#1.to display the pyhton version\n",
    "import sys\n",
    "print('Python version')\n",
    "print(sys.version)"
   ]
  },
  {
   "cell_type": "code",
   "execution_count": 2,
   "metadata": {},
   "outputs": [
    {
     "name": "stdout",
     "output_type": "stream",
     "text": [
      "version info\n",
      "sys.version_info(major=3, minor=7, micro=4, releaselevel='final', serial=0)\n"
     ]
    }
   ],
   "source": [
    "print('version info')\n",
    "print(sys.version_info)"
   ]
  },
  {
   "cell_type": "code",
   "execution_count": 3,
   "metadata": {},
   "outputs": [
    {
     "name": "stdout",
     "output_type": "stream",
     "text": [
      "current date and time:\n",
      "2020-09-08 19:50:50\n"
     ]
    }
   ],
   "source": [
    "#2.to display current date and time\n",
    "import datetime\n",
    "now = datetime.datetime.now()\n",
    "print('current date and time:')\n",
    "print(now.strftime('%Y-%m-%d %H:%M:%S'))\n"
   ]
  },
  {
   "cell_type": "code",
   "execution_count": 6,
   "metadata": {},
   "outputs": [],
   "source": [
    "#3. program to print the length of string\n",
    "def string_len(str1):\n",
    "    count=0\n",
    "    for char in str1:\n",
    "        count+=1\n",
    "    return count"
   ]
  },
  {
   "cell_type": "code",
   "execution_count": 7,
   "metadata": {},
   "outputs": [
    {
     "data": {
      "text/plain": [
       "5"
      ]
     },
     "execution_count": 7,
     "metadata": {},
     "output_type": "execute_result"
    }
   ],
   "source": [
    "string_len('priya')"
   ]
  },
  {
   "cell_type": "code",
   "execution_count": 17,
   "metadata": {},
   "outputs": [],
   "source": [
    "#4.program to calculate frequency of character\n",
    "def str_freq(str1):\n",
    "    d={}\n",
    "    for n in str1:\n",
    "        keys=d.keys()\n",
    "        if n in keys:\n",
    "            d[n]+=1\n",
    "        else:\n",
    "            d[n]=1\n",
    "    return d\n",
    "                "
   ]
  },
  {
   "cell_type": "code",
   "execution_count": 18,
   "metadata": {},
   "outputs": [
    {
     "data": {
      "text/plain": [
       "{'g': 2, 'o': 3, 'l': 1, 'e': 1, '.': 1, 'c': 1, 'm': 1}"
      ]
     },
     "execution_count": 18,
     "metadata": {},
     "output_type": "execute_result"
    }
   ],
   "source": [
    "str_freq('google.com')"
   ]
  },
  {
   "cell_type": "code",
   "execution_count": 22,
   "metadata": {},
   "outputs": [
    {
     "name": "stdout",
     "output_type": "stream",
     "text": [
      "radius =1.1\n",
      "Area of circle1.1is3.8013271108436504\n"
     ]
    }
   ],
   "source": [
    "#Write a Python program which accepts the radius \n",
    "#of a circle from the user and compute the area\n",
    "from math import pi\n",
    "r=float(input('radius ='))\n",
    "print('Area of circle'+ str(r)+ 'is' + str(pi*(r**2)))\n"
   ]
  },
  {
   "cell_type": "code",
   "execution_count": 24,
   "metadata": {},
   "outputs": [
    {
     "name": "stdout",
     "output_type": "stream",
     "text": [
      "first name=Mora\n",
      "Last name=Priya\n",
      "Hello Priya Mora\n"
     ]
    }
   ],
   "source": [
    "#5.Write a Python program which accepts the user's first and last name and print them in reverse order \n",
    "#with a space between them\n",
    "name_f=input('first name=')\n",
    "name_l=input('Last name=')\n",
    "print('Hello '+ name_l+\" \"+name_f)"
   ]
  },
  {
   "cell_type": "code",
   "execution_count": 29,
   "metadata": {},
   "outputs": [
    {
     "name": "stdout",
     "output_type": "stream",
     "text": [
      "enter comma seperated values22,65,45,85,95,33\n",
      "List: ['22', '65', '45', '85', '95', '33']\n",
      "tuple: ('22', '65', '45', '85', '95', '33')\n"
     ]
    }
   ],
   "source": [
    "#6.Write a Python program which accepts a sequence \n",
    "#of comma-separated numbers from user and generate a list and a \n",
    "#tuple with those numbers\n",
    "val= input('enter comma seperated values')\n",
    "l1= val.split(',')\n",
    "tup= tuple(l1)\n",
    "print('List:',l1)\n",
    "print('tuple:',tup)"
   ]
  },
  {
   "cell_type": "code",
   "execution_count": 31,
   "metadata": {},
   "outputs": [
    {
     "name": "stdout",
     "output_type": "stream",
     "text": [
      "enter file name:python_practice.ipynb\n",
      "['python_practice', 'ipynb']\n",
      "File extension is: ipynb\n"
     ]
    }
   ],
   "source": [
    "#7.Write a Python program to accept a filename from the user and print the extension of that\n",
    "file_n= input('enter file name:')\n",
    "file_split= file_n.split('.')\n",
    "print(file_split)\n",
    "print('File extension is:', file_split[-1])\n"
   ]
  },
  {
   "cell_type": "code",
   "execution_count": 32,
   "metadata": {},
   "outputs": [
    {
     "name": "stdout",
     "output_type": "stream",
     "text": [
      "Red Black\n"
     ]
    }
   ],
   "source": [
    "#8. Write a Python program to display the first and last colors from the following list\n",
    "#color_list = [\"Red\",\"Green\",\"White\" ,\"Black\"]\n",
    "color_list= ['Red','Green',\"White\",'Black']\n",
    "print(color_list[0],color_list[-1])"
   ]
  },
  {
   "cell_type": "code",
   "execution_count": 34,
   "metadata": {},
   "outputs": [
    {
     "name": "stdout",
     "output_type": "stream",
     "text": [
      "Red Black\n"
     ]
    }
   ],
   "source": [
    "color_list= ['Red','Green',\"White\",'Black']\n",
    "print('%s %s'%(color_list[0],color_list[-1]))"
   ]
  },
  {
   "cell_type": "code",
   "execution_count": 35,
   "metadata": {},
   "outputs": [
    {
     "name": "stdout",
     "output_type": "stream",
     "text": [
      "Red Black\n"
     ]
    }
   ],
   "source": [
    "color_list= ['Red','Green',\"White\",'Black']\n",
    "print('{} {}'.format(color_list[0],color_list[-1]) )"
   ]
  },
  {
   "cell_type": "code",
   "execution_count": 37,
   "metadata": {},
   "outputs": [
    {
     "name": "stdout",
     "output_type": "stream",
     "text": [
      "The examination will start from: 11 / 12 / 2014 \n"
     ]
    }
   ],
   "source": [
    " #9.Write a Python program to display the examination schedule. (extract the date from exam_st_date)\n",
    "exam_st_date= (11,12,2014)\n",
    "print('The examination will start from: {} / {} / {} '.format(exam_st_date[0],exam_st_date[1],exam_st_date[2]))"
   ]
  },
  {
   "cell_type": "code",
   "execution_count": 46,
   "metadata": {},
   "outputs": [
    {
     "name": "stdout",
     "output_type": "stream",
     "text": [
      "enter the value of n=5\n",
      "calculated value=  615\n"
     ]
    }
   ],
   "source": [
    "#10.Write a Python program that accepts an integer (n) and computes the value of n+nn+nnn\n",
    "n= int(input('enter the value of n='))\n",
    "n1= int('{}'.format(n))\n",
    "n2= int('{}{}'.format(n,n))\n",
    "n3= int('{}{}{}'.format(n,n,n))\n",
    "print('calculated value= ',n1+n2+n3)"
   ]
  },
  {
   "cell_type": "code",
   "execution_count": 48,
   "metadata": {},
   "outputs": [
    {
     "name": "stdout",
     "output_type": "stream",
     "text": [
      "enter the value of n=5\n",
      "calculated value=  615\n"
     ]
    }
   ],
   "source": [
    "n= int(input('enter the value of n='))\n",
    "n1= int('%s'%n)\n",
    "n2= int('%s%s'%(n,n))\n",
    "n3= int('%s%s%s'%(n,n,n))\n",
    "print('calculated value= ',n1+n2+n3)"
   ]
  },
  {
   "cell_type": "code",
   "execution_count": 1,
   "metadata": {},
   "outputs": [
    {
     "name": "stdout",
     "output_type": "stream",
     "text": [
      "Return the absolute value of the argument.\n"
     ]
    }
   ],
   "source": [
    "#11. Write a Python program to print the documents (syntax, description etc.) of Python built-in function(s)\n",
    "print(abs.__doc__)"
   ]
  },
  {
   "cell_type": "code",
   "execution_count": 3,
   "metadata": {},
   "outputs": [
    {
     "name": "stdout",
     "output_type": "stream",
     "text": [
      "Enter Year 2020\n",
      "Enter Month5\n",
      "      May 2020\n",
      "Mo Tu We Th Fr Sa Su\n",
      "             1  2  3\n",
      " 4  5  6  7  8  9 10\n",
      "11 12 13 14 15 16 17\n",
      "18 19 20 21 22 23 24\n",
      "25 26 27 28 29 30 31\n",
      "\n"
     ]
    }
   ],
   "source": [
    "#12.Write a python program to print the calender of a given month and year\n",
    "import calendar\n",
    "y= int(input('Enter Year '))\n",
    "m= int(input('Enter Month'))\n",
    "print(calendar.month(y,m))"
   ]
  },
  {
   "cell_type": "code",
   "execution_count": 1,
   "metadata": {},
   "outputs": [
    {
     "name": "stdout",
     "output_type": "stream",
     "text": [
      "a string that you \"don't\" have to escape\n",
      "This\n",
      "is a ....... multi-line\n",
      "heredoc string --------> example\n"
     ]
    }
   ],
   "source": [
    "#13.Write a Python program to print the following 'here document'.\n",
    "#Sample string:\n",
    "#a string that you \"don't\" have to escape\n",
    "#This\n",
    "#is a ....... multi-line\n",
    "#heredoc string --------> example\n",
    "print('''a string that you \"don't\" have to escape\n",
    "This\n",
    "is a ....... multi-line\n",
    "heredoc string --------> example''')"
   ]
  },
  {
   "cell_type": "code",
   "execution_count": 5,
   "metadata": {},
   "outputs": [
    {
     "name": "stdout",
     "output_type": "stream",
     "text": [
      "No.of days between two days is: 9\n"
     ]
    }
   ],
   "source": [
    "#14. Write a Python program to calculate number of days between two dates.\n",
    "#Sample dates : (2014, 7, 2), (2014, 7, 11)\n",
    "l1= [2014,7,2]\n",
    "l2=[2014,7,11]\n",
    "year_dif= (l1[0]-l2[0])*52*7\n",
    "month_dif= (l1[1]-l2[1])*7\n",
    "day_dif= l1[2]-l2[2]\n",
    "print('No.of days between two days is: {}'.format(abs(year_dif+month_dif+day_dif)))"
   ]
  },
  {
   "cell_type": "code",
   "execution_count": 8,
   "metadata": {},
   "outputs": [
    {
     "name": "stdout",
     "output_type": "stream",
     "text": [
      "9\n"
     ]
    }
   ],
   "source": [
    "from datetime import date\n",
    "f_date= date(2014,7,2)\n",
    "l_date= date(2014,7,11)\n",
    "#diff= abs(f_date - l_date)\n",
    "diff = l_date - f_date\n",
    "print(diff.days)"
   ]
  },
  {
   "cell_type": "code",
   "execution_count": 9,
   "metadata": {},
   "outputs": [],
   "source": [
    "#15.Write a Python program to get the volume of a sphere with radius 6\n",
    "\n",
    "def volume_sphere(r):\n",
    "    from math import pi\n",
    "    volume_of_sphere= (4/3)*pi*(r**3)\n",
    "    return volume_of_sphere"
   ]
  },
  {
   "cell_type": "code",
   "execution_count": 10,
   "metadata": {},
   "outputs": [
    {
     "data": {
      "text/plain": [
       "904.7786842338603"
      ]
     },
     "execution_count": 10,
     "metadata": {},
     "output_type": "execute_result"
    }
   ],
   "source": [
    "volume_sphere(6)"
   ]
  },
  {
   "cell_type": "code",
   "execution_count": 11,
   "metadata": {},
   "outputs": [
    {
     "name": "stdout",
     "output_type": "stream",
     "text": [
      "The volume of sphere is: 904.7786842338603\n"
     ]
    }
   ],
   "source": [
    "from math import pi\n",
    "r= 6.0\n",
    "v= 4.0/3.0 * pi * r**3\n",
    "print('The volume of sphere is: {}'.format(v))"
   ]
  },
  {
   "cell_type": "code",
   "execution_count": 17,
   "metadata": {},
   "outputs": [
    {
     "name": "stdout",
     "output_type": "stream",
     "text": [
      "Enter the number:14\n"
     ]
    },
    {
     "data": {
      "text/plain": [
       "3"
      ]
     },
     "execution_count": 17,
     "metadata": {},
     "output_type": "execute_result"
    }
   ],
   "source": [
    "#16. Write a Python program to get the difference between a given number and 17, if the number is greater than 17 return double the absolute difference\n",
    "a= int(input('Enter the number:'))\n",
    "b= 17\n",
    "if a>17:\n",
    "    output= 2*(a-b)\n",
    "else:\n",
    "    output= b-a\n",
    "output"
   ]
  },
  {
   "cell_type": "code",
   "execution_count": 19,
   "metadata": {},
   "outputs": [],
   "source": [
    "#17. Write a Python program to test whether a number is within 100 of 1000 or 2000.\n",
    "def with_in_100(d):\n",
    "    output= abs(d-1000)<=100  or abs(d-2000)<=100\n",
    "    return output\n",
    "    "
   ]
  },
  {
   "cell_type": "code",
   "execution_count": 21,
   "metadata": {},
   "outputs": [
    {
     "name": "stdout",
     "output_type": "stream",
     "text": [
      "True\n",
      "True\n",
      "False\n"
     ]
    },
    {
     "data": {
      "text/plain": [
       "False"
      ]
     },
     "execution_count": 21,
     "metadata": {},
     "output_type": "execute_result"
    }
   ],
   "source": [
    "print(with_in_100(1000))\n",
    "print(with_in_100(900))\n",
    "print(with_in_100(800))\n",
    "with_in_100(2200)"
   ]
  },
  {
   "cell_type": "code",
   "execution_count": 22,
   "metadata": {},
   "outputs": [],
   "source": [
    "#18. Write a Python program to calculate the sum of three given numbers, if the values are equal then return three times of their sum\n",
    "def diff_of_3_num(a,b,c):\n",
    "    if a==b==c:\n",
    "        output= 3*(a+b+c)\n",
    "    else:\n",
    "        output= a+b+c\n",
    "    return output"
   ]
  },
  {
   "cell_type": "code",
   "execution_count": 23,
   "metadata": {},
   "outputs": [
    {
     "data": {
      "text/plain": [
       "6"
      ]
     },
     "execution_count": 23,
     "metadata": {},
     "output_type": "execute_result"
    }
   ],
   "source": [
    "diff_of_3_num(1,2,3)"
   ]
  },
  {
   "cell_type": "code",
   "execution_count": 24,
   "metadata": {},
   "outputs": [
    {
     "data": {
      "text/plain": [
       "27"
      ]
     },
     "execution_count": 24,
     "metadata": {},
     "output_type": "execute_result"
    }
   ],
   "source": [
    "diff_of_3_num(3,3,3)"
   ]
  },
  {
   "cell_type": "code",
   "execution_count": 33,
   "metadata": {},
   "outputs": [],
   "source": [
    "#19.Write a Python program to get a new string from a given string where \"Is\" has been added to the front. If the given string already begins with \"Is\" then return the string unchanged\n",
    "def suff_string(str1):\n",
    "    if str1[0]=='I' and str1[1]=='s':\n",
    "        print(str1)\n",
    "    else:\n",
    "        print('Is'+str1)\n",
    "#str1= input('Enter the string:')\n"
   ]
  },
  {
   "cell_type": "code",
   "execution_count": 31,
   "metadata": {},
   "outputs": [
    {
     "name": "stdout",
     "output_type": "stream",
     "text": [
      "IsArray\n"
     ]
    }
   ],
   "source": [
    "suff_string('Array')"
   ]
  },
  {
   "cell_type": "code",
   "execution_count": 34,
   "metadata": {},
   "outputs": [
    {
     "name": "stdout",
     "output_type": "stream",
     "text": [
      "IsEmpty\n"
     ]
    }
   ],
   "source": [
    "suff_string('IsEmpty')"
   ]
  },
  {
   "cell_type": "code",
   "execution_count": 35,
   "metadata": {},
   "outputs": [
    {
     "name": "stdout",
     "output_type": "stream",
     "text": [
      "IsArray\n",
      "IsEmpty\n"
     ]
    }
   ],
   "source": [
    "def new_string(str):\n",
    "  if len(str) >= 2 and str[:2] == \"Is\":\n",
    "    return str\n",
    "  return \"Is\" + str\n",
    "\n",
    "print(new_string(\"Array\"))\n",
    "print(new_string(\"IsEmpty\"))"
   ]
  },
  {
   "cell_type": "code",
   "execution_count": 36,
   "metadata": {},
   "outputs": [],
   "source": [
    "def str_copy(str1,n):\n",
    "    output= n * str1\n",
    "    return output"
   ]
  },
  {
   "cell_type": "code",
   "execution_count": 37,
   "metadata": {},
   "outputs": [
    {
     "data": {
      "text/plain": [
       "'abcabc'"
      ]
     },
     "execution_count": 37,
     "metadata": {},
     "output_type": "execute_result"
    }
   ],
   "source": [
    "str_copy('abc',2)"
   ]
  },
  {
   "cell_type": "code",
   "execution_count": 38,
   "metadata": {},
   "outputs": [
    {
     "data": {
      "text/plain": [
       "'.py.py.py'"
      ]
     },
     "execution_count": 38,
     "metadata": {},
     "output_type": "execute_result"
    }
   ],
   "source": [
    "str_copy('.py',3)"
   ]
  },
  {
   "cell_type": "code",
   "execution_count": 40,
   "metadata": {},
   "outputs": [
    {
     "name": "stdout",
     "output_type": "stream",
     "text": [
      "abcabc\n",
      ".py.py.py\n"
     ]
    }
   ],
   "source": [
    "def larger_string(str, n):\n",
    "   result = \"\"\n",
    "   for i in range(n):\n",
    "      result = result + str\n",
    "   return result\n",
    "\n",
    "print(larger_string('abc', 2))\n",
    "print(larger_string('.py', 3))"
   ]
  },
  {
   "cell_type": "code",
   "execution_count": null,
   "metadata": {},
   "outputs": [],
   "source": []
  }
 ],
 "metadata": {
  "kernelspec": {
   "display_name": "Python 3",
   "language": "python",
   "name": "python3"
  },
  "language_info": {
   "codemirror_mode": {
    "name": "ipython",
    "version": 3
   },
   "file_extension": ".py",
   "mimetype": "text/x-python",
   "name": "python",
   "nbconvert_exporter": "python",
   "pygments_lexer": "ipython3",
   "version": "3.7.4"
  }
 },
 "nbformat": 4,
 "nbformat_minor": 2
}
