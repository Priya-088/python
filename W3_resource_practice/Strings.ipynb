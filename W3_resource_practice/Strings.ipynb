{
 "cells": [
  {
   "cell_type": "markdown",
   "metadata": {},
   "source": [
    "1) Write python programe to calculate the length of the string"
   ]
  },
  {
   "cell_type": "code",
   "execution_count": 1,
   "metadata": {},
   "outputs": [],
   "source": [
    "def str_len(str1):\n",
    "    count = 0\n",
    "    for i in str1:\n",
    "        count = count+1\n",
    "    return count\n"
   ]
  },
  {
   "cell_type": "code",
   "execution_count": 2,
   "metadata": {},
   "outputs": [
    {
     "data": {
      "text/plain": [
       "5"
      ]
     },
     "execution_count": 2,
     "metadata": {},
     "output_type": "execute_result"
    }
   ],
   "source": [
    "str_len('priya')"
   ]
  },
  {
   "cell_type": "markdown",
   "metadata": {},
   "source": [
    "2)  Write a Python program to count the number of characters (character frequency) in a string"
   ]
  },
  {
   "cell_type": "code",
   "execution_count": 6,
   "metadata": {},
   "outputs": [
    {
     "data": {
      "text/plain": [
       "{'g': 2, 'o': 3, 'l': 1, 'e': 1, '.': 1, 'c': 1, 'm': 1}"
      ]
     },
     "execution_count": 6,
     "metadata": {},
     "output_type": "execute_result"
    }
   ],
   "source": [
    "dict1 = {}\n",
    "str1 = 'google.com'\n",
    "\n",
    "for i in str1:\n",
    "    keys = dict1.keys()\n",
    "    if i in keys:\n",
    "        dict1[i]+=1\n",
    "    else:\n",
    "        dict1[i]=1\n",
    "dict1"
   ]
  },
  {
   "cell_type": "code",
   "execution_count": 7,
   "metadata": {},
   "outputs": [],
   "source": [
    "def str_freq(str1):\n",
    "    dict1={}\n",
    "    for i in str1:\n",
    "        keys = dict1.keys()\n",
    "        if i in keys:\n",
    "            dict1[i]+=1\n",
    "        else:\n",
    "            dict1[i]=1\n",
    "    return dict1"
   ]
  },
  {
   "cell_type": "code",
   "execution_count": 8,
   "metadata": {},
   "outputs": [
    {
     "data": {
      "text/plain": [
       "{'g': 2, 'o': 3, 'l': 1, 'e': 1, '.': 1, 'c': 1, 'm': 1}"
      ]
     },
     "execution_count": 8,
     "metadata": {},
     "output_type": "execute_result"
    }
   ],
   "source": [
    "str_freq('google.com')"
   ]
  },
  {
   "cell_type": "markdown",
   "metadata": {},
   "source": [
    "3) Write a Python program to get a string made of the first 2 and the last 2 chars from a given a string. If the string length is less than 2, return instead of the empty string.\n",
    "* Sample String : 'w3resource'\n",
    "* Expected Result : 'w3ce'\n",
    "- Sample String : 'w3'\n",
    "- Expected Result : 'w3w3'\n",
    "- Sample String : ' w'\n",
    "- Expected Result : Empty String"
   ]
  },
  {
   "cell_type": "code",
   "execution_count": 9,
   "metadata": {},
   "outputs": [],
   "source": [
    "def combine_str(str1):\n",
    "    if len(str1)>=2:\n",
    "        return str1[0:2]+str1[-2:]\n",
    "    else:\n",
    "        return ''"
   ]
  },
  {
   "cell_type": "code",
   "execution_count": 10,
   "metadata": {},
   "outputs": [
    {
     "name": "stdout",
     "output_type": "stream",
     "text": [
      "w3ce\n",
      "w3w3\n"
     ]
    },
    {
     "data": {
      "text/plain": [
       "''"
      ]
     },
     "execution_count": 10,
     "metadata": {},
     "output_type": "execute_result"
    }
   ],
   "source": [
    "print(combine_str('w3resource'))\n",
    "print(combine_str('w3'))\n",
    "combine_str('w')\n"
   ]
  },
  {
   "cell_type": "markdown",
   "metadata": {},
   "source": [
    "4)  Write a Python program to get a string from a given string where all occurrences of its first char have been changed to \"\\$\", except the first char itself.\n",
    "- Sample String : 'restart'\n",
    "- Expected Result : 'resta$t'"
   ]
  },
  {
   "cell_type": "code",
   "execution_count": 16,
   "metadata": {},
   "outputs": [],
   "source": [
    "def change_first(str1):\n",
    "    char = str1[0]\n",
    "    str1=str1.replace(char,'$')\n",
    "    str1 = char+str1[1:]\n",
    "    return str1"
   ]
  },
  {
   "cell_type": "code",
   "execution_count": 17,
   "metadata": {},
   "outputs": [
    {
     "data": {
      "text/plain": [
       "'resta$t'"
      ]
     },
     "execution_count": 17,
     "metadata": {},
     "output_type": "execute_result"
    }
   ],
   "source": [
    "change_first('restart')"
   ]
  },
  {
   "cell_type": "markdown",
   "metadata": {},
   "source": [
    "5) Write a Python program to get a single string from two given strings, separated by a space and swap the first two characters of each string.\n",
    "- Sample String : 'abc', 'xyz'\n",
    "- Expected Result : 'xyc abz'\n"
   ]
  },
  {
   "cell_type": "code",
   "execution_count": 3,
   "metadata": {},
   "outputs": [],
   "source": [
    "def swap_str(str1,str2):\n",
    "    a=str1[0:2]  #ab\n",
    "    b=str2[0:2]  #xy\n",
    "    return b+str1[2:]+' '+a+str2[2:]"
   ]
  },
  {
   "cell_type": "code",
   "execution_count": 4,
   "metadata": {},
   "outputs": [
    {
     "data": {
      "text/plain": [
       "'xyc abz'"
      ]
     },
     "execution_count": 4,
     "metadata": {},
     "output_type": "execute_result"
    }
   ],
   "source": [
    "swap_str('abc','xyz')"
   ]
  },
  {
   "cell_type": "markdown",
   "metadata": {},
   "source": [
    "6) Write a Python program to add 'ing' at the end of a given string (length should be at least 3). If the given string already ends with 'ing' then add 'ly' instead. If the string length of the given string is less than 3, leave it unchanged.\n",
    "- Sample String : 'abc'\n",
    "- Expected Result : 'abcing'\n",
    "- Sample String : 'string'\n",
    "- Expected Result : 'stringly'"
   ]
  },
  {
   "cell_type": "code",
   "execution_count": 20,
   "metadata": {},
   "outputs": [
    {
     "data": {
      "text/plain": [
       "True"
      ]
     },
     "execution_count": 20,
     "metadata": {},
     "output_type": "execute_result"
    }
   ],
   "source": [
    "str1 = 'reading'\n",
    "str1[-3:]=='ing'"
   ]
  },
  {
   "cell_type": "code",
   "execution_count": 24,
   "metadata": {},
   "outputs": [],
   "source": [
    "def str_ing(str1):\n",
    "    a='ing'\n",
    "    b='ly'\n",
    "    if len(str1)>=3:\n",
    "        if str1[-3:]==a:\n",
    "            str1=str1+b\n",
    "            return str1\n",
    "        else: \n",
    "            str1=str1+a\n",
    "            return str1\n",
    "    else:\n",
    "        return str1\n",
    "        \n",
    "    "
   ]
  },
  {
   "cell_type": "code",
   "execution_count": 25,
   "metadata": {},
   "outputs": [
    {
     "name": "stdout",
     "output_type": "stream",
     "text": [
      "abcing\n",
      "stringly\n"
     ]
    }
   ],
   "source": [
    "print(str_ing('abc'))\n",
    "print(str_ing('string'))"
   ]
  },
  {
   "cell_type": "markdown",
   "metadata": {},
   "source": [
    "7) Write a Python program to find the first appearance of the substring 'not' and 'poor' from a given string, if 'not' follows the 'poor', replace the whole 'not'...'poor' substring with 'good'. Return the resulting string.\n",
    "- Sample String : 'The lyrics is not that poor!'\n",
    "- 'The lyrics is poor!'\n",
    "- Expected Result : 'The lyrics is good!'\n",
    "- 'The lyrics is poor!'"
   ]
  },
  {
   "cell_type": "code",
   "execution_count": 5,
   "metadata": {},
   "outputs": [
    {
     "data": {
      "text/plain": [
       "14"
      ]
     },
     "execution_count": 5,
     "metadata": {},
     "output_type": "execute_result"
    }
   ],
   "source": [
    "str1='the lyrics is not that poor'\n",
    "s = str1.find('not')\n",
    "s  #it returns index where 'not' starts"
   ]
  },
  {
   "cell_type": "code",
   "execution_count": 27,
   "metadata": {},
   "outputs": [],
   "source": [
    "def str_app(str1):\n",
    "    p=str1.find('not')\n",
    "    d=str1.find('poor')\n",
    "    if p>0 and d>0 and d>p:\n",
    "        str1=str1.replace(str1[p:],'good')\n",
    "        return str1\n",
    "    else:\n",
    "        return str1"
   ]
  },
  {
   "cell_type": "code",
   "execution_count": 29,
   "metadata": {},
   "outputs": [
    {
     "name": "stdout",
     "output_type": "stream",
     "text": [
      "The lyrics is good\n",
      "The lyrics is poor!\n"
     ]
    }
   ],
   "source": [
    "print(str_app('The lyrics is not that poor!'))\n",
    "print(str_app('The lyrics is poor!'))"
   ]
  },
  {
   "cell_type": "markdown",
   "metadata": {},
   "source": [
    "8) Write a Python function that takes a list of words and returns the longest word and the length of the longest one.\n",
    "- Sample Output:\n",
    "- Longest word: Exercises\n",
    "- Length of the longest word: 9"
   ]
  },
  {
   "cell_type": "code",
   "execution_count": 11,
   "metadata": {},
   "outputs": [],
   "source": [
    "def long_word(lst):\n",
    "    word_len=[]\n",
    "    for i in lst:\n",
    "        word_len.append((len(i),i))\n",
    "    word_len.sort()\n",
    "    print(word_len)\n",
    "    lon_word_len = word_len[-1][0]\n",
    "    longest_word = word_len[-1][1]\n",
    "        \n",
    "    print('Longest word: {}'.format(longest_word))\n",
    "    print('word length: {}'.format(lon_word_len))\n",
    "    "
   ]
  },
  {
   "cell_type": "code",
   "execution_count": 12,
   "metadata": {},
   "outputs": [
    {
     "name": "stdout",
     "output_type": "stream",
     "text": [
      "[(3, 'PHP'), (7, 'Backend'), (9, 'Exercises')]\n",
      "Longest word: Exercises\n",
      "word length: 9\n"
     ]
    }
   ],
   "source": [
    "long_word([\"PHP\", \"Exercises\", \"Backend\"])"
   ]
  },
  {
   "cell_type": "markdown",
   "metadata": {},
   "source": [
    "9)Write a Python program to remove the nth index character from a nonempty string.\n"
   ]
  },
  {
   "cell_type": "code",
   "execution_count": 15,
   "metadata": {},
   "outputs": [],
   "source": [
    "def remv(str1,n):\n",
    "    a = str1[:n]\n",
    "    b = str1[n+1:]\n",
    "    return a+b"
   ]
  },
  {
   "cell_type": "code",
   "execution_count": 17,
   "metadata": {},
   "outputs": [
    {
     "name": "stdout",
     "output_type": "stream",
     "text": [
      "ython\n",
      "pyton\n",
      "pytho\n"
     ]
    }
   ],
   "source": [
    "print(remv('python',0))\n",
    "print(remv('python',3))\n",
    "print(remv('python',5))"
   ]
  },
  {
   "cell_type": "markdown",
   "metadata": {},
   "source": [
    "10) Writea Python program to change a given string to a new string where the first and last chars have been exchanged."
   ]
  },
  {
   "cell_type": "code",
   "execution_count": 20,
   "metadata": {},
   "outputs": [],
   "source": [
    "def exchange(str1):\n",
    "    a=str1[0]\n",
    "    b=str1[-1]\n",
    "    return b+str1[1:(len(str1)-1)]+a"
   ]
  },
  {
   "cell_type": "code",
   "execution_count": 21,
   "metadata": {},
   "outputs": [
    {
     "data": {
      "text/plain": [
       "'dbca'"
      ]
     },
     "execution_count": 21,
     "metadata": {},
     "output_type": "execute_result"
    }
   ],
   "source": [
    "exchange('abcd')"
   ]
  },
  {
   "cell_type": "code",
   "execution_count": 22,
   "metadata": {},
   "outputs": [],
   "source": [
    "def exchange1(str1):\n",
    "    a=str1[0]\n",
    "    b=str1[-1]\n",
    "    return b+str1[1:-1]+a"
   ]
  },
  {
   "cell_type": "code",
   "execution_count": 24,
   "metadata": {},
   "outputs": [
    {
     "data": {
      "text/plain": [
       "'4231'"
      ]
     },
     "execution_count": 24,
     "metadata": {},
     "output_type": "execute_result"
    }
   ],
   "source": [
    "exchange1('1234')"
   ]
  },
  {
   "cell_type": "markdown",
   "metadata": {},
   "source": [
    "11) Write a Python program to remove the characters which have odd index values of a given string."
   ]
  },
  {
   "cell_type": "code",
   "execution_count": 27,
   "metadata": {},
   "outputs": [],
   "source": [
    "def odd_remove(str1):\n",
    "    empty =''\n",
    "    for i in range(len(str1)):\n",
    "        if i%2==0:\n",
    "            empty = empty+str1[i]\n",
    "    return empty\n",
    "            "
   ]
  },
  {
   "cell_type": "code",
   "execution_count": 28,
   "metadata": {},
   "outputs": [
    {
     "data": {
      "text/plain": [
       "'ace'"
      ]
     },
     "execution_count": 28,
     "metadata": {},
     "output_type": "execute_result"
    }
   ],
   "source": [
    "odd_remove('abcdef')"
   ]
  },
  {
   "cell_type": "code",
   "execution_count": null,
   "metadata": {},
   "outputs": [],
   "source": []
  }
 ],
 "metadata": {
  "kernelspec": {
   "display_name": "Python 3",
   "language": "python",
   "name": "python3"
  },
  "language_info": {
   "codemirror_mode": {
    "name": "ipython",
    "version": 3
   },
   "file_extension": ".py",
   "mimetype": "text/x-python",
   "name": "python",
   "nbconvert_exporter": "python",
   "pygments_lexer": "ipython3",
   "version": "3.7.4"
  }
 },
 "nbformat": 4,
 "nbformat_minor": 2
}
