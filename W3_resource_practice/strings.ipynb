{
 "cells": [
  {
   "cell_type": "code",
   "execution_count": 1,
   "metadata": {},
   "outputs": [
    {
     "name": "stdout",
     "output_type": "stream",
     "text": [
      "Python version\n",
      "3.7.4 (default, Aug  9 2019, 18:34:13) [MSC v.1915 64 bit (AMD64)]\n"
     ]
    }
   ],
   "source": [
    "#1.to display the pyhton version\n",
    "import sys\n",
    "print('Python version')\n",
    "print(sys.version)"
   ]
  },
  {
   "cell_type": "code",
   "execution_count": 2,
   "metadata": {},
   "outputs": [
    {
     "name": "stdout",
     "output_type": "stream",
     "text": [
      "version info\n",
      "sys.version_info(major=3, minor=7, micro=4, releaselevel='final', serial=0)\n"
     ]
    }
   ],
   "source": [
    "print('version info')\n",
    "print(sys.version_info)"
   ]
  },
  {
   "cell_type": "code",
   "execution_count": 3,
   "metadata": {},
   "outputs": [
    {
     "name": "stdout",
     "output_type": "stream",
     "text": [
      "current date and time:\n",
      "2020-09-08 19:50:50\n"
     ]
    }
   ],
   "source": [
    "#2.to display current date and time\n",
    "import datetime\n",
    "now = datetime.datetime.now()\n",
    "print('current date and time:')\n",
    "print(now.strftime('%Y-%m-%d %H:%M:%S'))\n"
   ]
  },
  {
   "cell_type": "code",
   "execution_count": 6,
   "metadata": {},
   "outputs": [],
   "source": [
    "#3. program to print the length of string\n",
    "def string_len(str1):\n",
    "    count=0\n",
    "    for char in str1:\n",
    "        count+=1\n",
    "    return count"
   ]
  },
  {
   "cell_type": "code",
   "execution_count": 7,
   "metadata": {},
   "outputs": [
    {
     "data": {
      "text/plain": [
       "5"
      ]
     },
     "execution_count": 7,
     "metadata": {},
     "output_type": "execute_result"
    }
   ],
   "source": [
    "string_len('priya')"
   ]
  },
  {
   "cell_type": "code",
   "execution_count": 17,
   "metadata": {},
   "outputs": [],
   "source": [
    "#4.program to calculate frequency of character\n",
    "def str_freq(str1):\n",
    "    d={}\n",
    "    for n in str1:\n",
    "        keys=d.keys()\n",
    "        if n in keys:\n",
    "            d[n]+=1\n",
    "        else:\n",
    "            d[n]=1\n",
    "    return d\n",
    "                "
   ]
  },
  {
   "cell_type": "code",
   "execution_count": 18,
   "metadata": {},
   "outputs": [
    {
     "data": {
      "text/plain": [
       "{'g': 2, 'o': 3, 'l': 1, 'e': 1, '.': 1, 'c': 1, 'm': 1}"
      ]
     },
     "execution_count": 18,
     "metadata": {},
     "output_type": "execute_result"
    }
   ],
   "source": [
    "str_freq('google.com')"
   ]
  },
  {
   "cell_type": "code",
   "execution_count": 22,
   "metadata": {},
   "outputs": [
    {
     "name": "stdout",
     "output_type": "stream",
     "text": [
      "radius =1.1\n",
      "Area of circle1.1is3.8013271108436504\n"
     ]
    }
   ],
   "source": [
    "#Write a Python program which accepts the radius \n",
    "#of a circle from the user and compute the area\n",
    "from math import pi\n",
    "r=float(input('radius ='))\n",
    "print('Area of circle'+ str(r)+ 'is' + str(pi*(r**2)))\n"
   ]
  },
  {
   "cell_type": "code",
   "execution_count": 24,
   "metadata": {},
   "outputs": [
    {
     "name": "stdout",
     "output_type": "stream",
     "text": [
      "first name=Mora\n",
      "Last name=Priya\n",
      "Hello Priya Mora\n"
     ]
    }
   ],
   "source": [
    "#5.Write a Python program which accepts the user's first and last name and print them in reverse order \n",
    "#with a space between them\n",
    "name_f=input('first name=')\n",
    "name_l=input('Last name=')\n",
    "print('Hello '+ name_l+\" \"+name_f)"
   ]
  },
  {
   "cell_type": "code",
   "execution_count": 29,
   "metadata": {},
   "outputs": [
    {
     "name": "stdout",
     "output_type": "stream",
     "text": [
      "enter comma seperated values22,65,45,85,95,33\n",
      "List: ['22', '65', '45', '85', '95', '33']\n",
      "tuple: ('22', '65', '45', '85', '95', '33')\n"
     ]
    }
   ],
   "source": [
    "#6.Write a Python program which accepts a sequence \n",
    "#of comma-separated numbers from user and generate a list and a \n",
    "#tuple with those numbers\n",
    "val= input('enter comma seperated values')\n",
    "l1= val.split(',')\n",
    "tup= tuple(l1)\n",
    "print('List:',l1)\n",
    "print('tuple:',tup)"
   ]
  },
  {
   "cell_type": "code",
   "execution_count": 31,
   "metadata": {},
   "outputs": [
    {
     "name": "stdout",
     "output_type": "stream",
     "text": [
      "enter file name:python_practice.ipynb\n",
      "['python_practice', 'ipynb']\n",
      "File extension is: ipynb\n"
     ]
    }
   ],
   "source": [
    "#7.Write a Python program to accept a filename from the user and print the extension of that\n",
    "file_n= input('enter file name:')\n",
    "file_split= file_n.split('.')\n",
    "print(file_split)\n",
    "print('File extension is:', file_split[-1])\n"
   ]
  },
  {
   "cell_type": "code",
   "execution_count": 32,
   "metadata": {},
   "outputs": [
    {
     "name": "stdout",
     "output_type": "stream",
     "text": [
      "Red Black\n"
     ]
    }
   ],
   "source": [
    "#8. Write a Python program to display the first and last colors from the following list\n",
    "#color_list = [\"Red\",\"Green\",\"White\" ,\"Black\"]\n",
    "color_list= ['Red','Green',\"White\",'Black']\n",
    "print(color_list[0],color_list[-1])"
   ]
  },
  {
   "cell_type": "code",
   "execution_count": 34,
   "metadata": {},
   "outputs": [
    {
     "name": "stdout",
     "output_type": "stream",
     "text": [
      "Red Black\n"
     ]
    }
   ],
   "source": [
    "color_list= ['Red','Green',\"White\",'Black']\n",
    "print('%s %s'%(color_list[0],color_list[-1]))"
   ]
  },
  {
   "cell_type": "code",
   "execution_count": 35,
   "metadata": {},
   "outputs": [
    {
     "name": "stdout",
     "output_type": "stream",
     "text": [
      "Red Black\n"
     ]
    }
   ],
   "source": [
    "color_list= ['Red','Green',\"White\",'Black']\n",
    "print('{} {}'.format(color_list[0],color_list[-1]) )"
   ]
  },
  {
   "cell_type": "code",
   "execution_count": 37,
   "metadata": {},
   "outputs": [
    {
     "name": "stdout",
     "output_type": "stream",
     "text": [
      "The examination will start from: 11 / 12 / 2014 \n"
     ]
    }
   ],
   "source": [
    " #9.Write a Python program to display the examination schedule. (extract the date from exam_st_date)\n",
    "exam_st_date= (11,12,2014)\n",
    "print('The examination will start from: {} / {} / {} '.format(exam_st_date[0],exam_st_date[1],exam_st_date[2]))"
   ]
  },
  {
   "cell_type": "code",
   "execution_count": 46,
   "metadata": {},
   "outputs": [
    {
     "name": "stdout",
     "output_type": "stream",
     "text": [
      "enter the value of n=5\n",
      "calculated value=  615\n"
     ]
    }
   ],
   "source": [
    "#10.Write a Python program that accepts an integer (n) and computes the value of n+nn+nnn\n",
    "n= int(input('enter the value of n='))\n",
    "n1= int('{}'.format(n))\n",
    "n2= int('{}{}'.format(n,n))\n",
    "n3= int('{}{}{}'.format(n,n,n))\n",
    "print('calculated value= ',n1+n2+n3)"
   ]
  },
  {
   "cell_type": "code",
   "execution_count": 48,
   "metadata": {},
   "outputs": [
    {
     "name": "stdout",
     "output_type": "stream",
     "text": [
      "enter the value of n=5\n",
      "calculated value=  615\n"
     ]
    }
   ],
   "source": [
    "n= int(input('enter the value of n='))\n",
    "n1= int('%s'%n)\n",
    "n2= int('%s%s'%(n,n))\n",
    "n3= int('%s%s%s'%(n,n,n))\n",
    "print('calculated value= ',n1+n2+n3)"
   ]
  },
  {
   "cell_type": "code",
   "execution_count": null,
   "metadata": {},
   "outputs": [],
   "source": []
  }
 ],
 "metadata": {
  "kernelspec": {
   "display_name": "Python 3",
   "language": "python",
   "name": "python3"
  },
  "language_info": {
   "codemirror_mode": {
    "name": "ipython",
    "version": 3
   },
   "file_extension": ".py",
   "mimetype": "text/x-python",
   "name": "python",
   "nbconvert_exporter": "python",
   "pygments_lexer": "ipython3",
   "version": "3.7.4"
  }
 },
 "nbformat": 4,
 "nbformat_minor": 2
}
